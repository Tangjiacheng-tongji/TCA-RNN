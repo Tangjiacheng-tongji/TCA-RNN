{
 "cells": [
  {
   "cell_type": "code",
   "execution_count": 1,
   "metadata": {},
   "outputs": [],
   "source": [
    "import torch\n",
    "from torch import nn\n",
    "from torch.autograd import Variable\n",
    "import torch.optim as optim\n",
    "import numpy as np\n",
    "from tqdm import trange\n",
    "import matplotlib.pyplot as plt\n",
    "import random"
   ]
  },
  {
   "cell_type": "code",
   "execution_count": 2,
   "metadata": {},
   "outputs": [],
   "source": [
    "class RNN(nn.Module):            #setting models\n",
    "    def __init__(self,INPUT_SIZE,HIDDEN_SIZE,OUTPUT_SIZE):\n",
    "        super(RNN, self).__init__()\n",
    "        self.rnn = nn.RNN(\n",
    "            input_size=INPUT_SIZE,\n",
    "            hidden_size=HIDDEN_SIZE,\n",
    "            num_layers=1,\n",
    "            batch_first=True,\n",
    "        )\n",
    "        self.linear = nn.Linear(HIDDEN_SIZE,OUTPUT_SIZE,bias=False)      #a classifier without bias\n",
    " \n",
    "    def forward(self, x,h_0): \n",
    "        output, h_n = self.rnn(x, h_0)\n",
    " \n",
    "        outs = []\n",
    "        for t in range(output.size(1)):\n",
    "            outs.append(self.linear(output[:, t, :]))\n",
    "        \n",
    "        return torch.stack(outs, dim=1), output"
   ]
  },
  {
   "cell_type": "code",
   "execution_count": 3,
   "metadata": {},
   "outputs": [],
   "source": [
    "net = RNN(1,100,1)  #create models\n",
    "LR=0.005 "
   ]
  },
  {
   "cell_type": "code",
   "execution_count": 4,
   "metadata": {},
   "outputs": [],
   "source": [
    "optimizer = torch.optim.SGD(net.parameters(), lr=LR)\n",
    "criterion=nn.MSELoss()\n",
    "h_0 = None"
   ]
  },
  {
   "cell_type": "code",
   "execution_count": 5,
   "metadata": {},
   "outputs": [],
   "source": [
    "x=[]\n",
    "for i in range(0,451):\n",
    "    x.append(np.cos(np.sin(i*0.1)))"
   ]
  },
  {
   "cell_type": "code",
   "execution_count": 6,
   "metadata": {},
   "outputs": [
    {
     "name": "stderr",
     "output_type": "stream",
     "text": [
      "100%|████████████████████████████████████████████████████████████████████████████████| 400/400 [00:06<00:00, 63.91it/s]\n"
     ]
    }
   ],
   "source": [
    "loss_list=[]\n",
    "weights=[]\n",
    "for i in trange(0,400,1):\n",
    "    X=Variable(torch.Tensor(np.array(x[i:i+49]).reshape((1,-1,1))))\n",
    "    Y=Variable(torch.Tensor(np.array([x[i+50]]).reshape(1,-1,1)))\n",
    "    #try to predict with hidden states\n",
    "    prediction, w = net(X, h_0)\n",
    "    #calculate the loss\n",
    "    loss = criterion(prediction[:,-1,:], Y[:,-1,:])\n",
    "    loss_list.append(loss)\n",
    "    weights.append(w[0,:,:])\n",
    "    optimizer.zero_grad()\n",
    "    loss.backward()\n",
    "    optimizer.step()"
   ]
  },
  {
   "cell_type": "code",
   "execution_count": 7,
   "metadata": {},
   "outputs": [
    {
     "data": {
      "text/plain": [
       "[<matplotlib.lines.Line2D at 0x26a8f336748>]"
      ]
     },
     "execution_count": 7,
     "metadata": {},
     "output_type": "execute_result"
    },
    {
     "data": {
      "image/png": "[encoded data removed]",
      "text/plain": [
       "<Figure size 216x144 with 1 Axes>"
      ]
     },
     "metadata": {
      "needs_background": "light"
     },
     "output_type": "display_data"
    }
   ],
   "source": [
    "plt.figure(figsize=(3, 2)) \n",
    "plt.title(\"Loss\")\n",
    "plt.plot(range(len(loss_list)), loss_list, 'black')"
   ]
  },
  {
   "cell_type": "code",
   "execution_count": 8,
   "metadata": {},
   "outputs": [
    {
     "name": "stdout",
     "output_type": "stream",
     "text": [
      "(400, 49, 100)\n"
     ]
    }
   ],
   "source": [
    "W_1=torch.stack(weights, dim=0)\n",
    "W=W_1.detach().numpy()\n",
    "print(W.shape)\n",
    "np.savetxt(\"temp.txt\",W.reshape((400,-1)))"
   ]
  },
  {
   "cell_type": "code",
   "execution_count": null,
   "metadata": {},
   "outputs": [],
   "source": []
  }
 ],
 "metadata": {
  "kernelspec": {
   "display_name": "Python 3",
   "language": "python",
   "name": "python3"
  },
  "language_info": {
   "codemirror_mode": {
    "name": "ipython",
    "version": 3
   },
   "file_extension": ".py",
   "mimetype": "text/x-python",
   "name": "python",
   "nbconvert_exporter": "python",
   "pygments_lexer": "ipython3",
   "version": "3.7.3"
  }
 },
 "nbformat": 4,
 "nbformat_minor": 2
}
